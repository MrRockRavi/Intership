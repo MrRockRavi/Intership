{
 "cells": [
  {
   "cell_type": "markdown",
   "id": "3b3201b4",
   "metadata": {},
   "source": [
    "Write a python program to check whether a given string is palindrome or not."
   ]
  },
  {
   "cell_type": "code",
   "execution_count": 7,
   "id": "70d4004b",
   "metadata": {},
   "outputs": [
    {
     "name": "stdout",
     "output_type": "stream",
     "text": [
      "enter string:ravi\n"
     ]
    }
   ],
   "source": [
    "a=input(\"enter string:\")"
   ]
  },
  {
   "cell_type": "code",
   "execution_count": 8,
   "id": "355edf05",
   "metadata": {},
   "outputs": [],
   "source": [
    "b=a[-1::-1]"
   ]
  },
  {
   "cell_type": "code",
   "execution_count": 9,
   "id": "3e58c60a",
   "metadata": {},
   "outputs": [
    {
     "name": "stdout",
     "output_type": "stream",
     "text": [
      "not palindrom\n"
     ]
    }
   ],
   "source": [
    "if(a==b):\n",
    "    print(\"palindrom\")\n",
    "else:\n",
    "    print(\"not palindrom\")"
   ]
  },
  {
   "cell_type": "code",
   "execution_count": null,
   "id": "3a25eb62",
   "metadata": {},
   "outputs": [],
   "source": []
  }
 ],
 "metadata": {
  "kernelspec": {
   "display_name": "Python 3 (ipykernel)",
   "language": "python",
   "name": "python3"
  },
  "language_info": {
   "codemirror_mode": {
    "name": "ipython",
    "version": 3
   },
   "file_extension": ".py",
   "mimetype": "text/x-python",
   "name": "python",
   "nbconvert_exporter": "python",
   "pygments_lexer": "ipython3",
   "version": "3.9.7"
  }
 },
 "nbformat": 4,
 "nbformat_minor": 5
}
