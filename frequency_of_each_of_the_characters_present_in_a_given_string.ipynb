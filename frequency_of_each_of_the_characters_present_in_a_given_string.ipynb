{
 "cells": [
  {
   "cell_type": "markdown",
   "id": "04346019",
   "metadata": {},
   "source": [
    "a python program to print the frequency of each of the characters present in a given string"
   ]
  },
  {
   "cell_type": "markdown",
   "id": "bcb3cac7",
   "metadata": {},
   "source": [
    "# in operator"
   ]
  },
  {
   "cell_type": "code",
   "execution_count": 1,
   "id": "8fbc8242",
   "metadata": {},
   "outputs": [
    {
     "name": "stdout",
     "output_type": "stream",
     "text": [
      "True\n"
     ]
    }
   ],
   "source": [
    "d1={'jan':1,'april':5,'july':7}\n",
    "print('jan' in d1 )"
   ]
  },
  {
   "cell_type": "code",
   "execution_count": 2,
   "id": "94b04752",
   "metadata": {},
   "outputs": [
    {
     "name": "stdout",
     "output_type": "stream",
     "text": [
      "False\n"
     ]
    }
   ],
   "source": [
    "print('feb'in d1)"
   ]
  },
  {
   "cell_type": "code",
   "execution_count": 3,
   "id": "476721e9",
   "metadata": {},
   "outputs": [
    {
     "name": "stdout",
     "output_type": "stream",
     "text": [
      "enetr the stringvtuvtubgmvtu\n",
      "{'v': 3, 't': 3, 'u': 3, 'b': 1, 'g': 1, 'm': 1}\n"
     ]
    }
   ],
   "source": [
    "str1 = input(\"enetr the string\")\n",
    "d1 = dict()\n",
    "for c in str1:\n",
    "    if c in d1:\n",
    "        d1[c] = d1[c]+1\n",
    "    else:\n",
    "        d1[c]  = 1\n",
    "        \n",
    "print (d1)"
   ]
  },
  {
   "cell_type": "markdown",
   "id": "68e0b3a5",
   "metadata": {},
   "source": [
    "# get()"
   ]
  },
  {
   "cell_type": "code",
   "execution_count": 4,
   "id": "0b3ad7c3",
   "metadata": {},
   "outputs": [
    {
     "name": "stdout",
     "output_type": "stream",
     "text": [
      "1\n"
     ]
    }
   ],
   "source": [
    "d1={'jan':1,'april':5,'july':7}\n",
    "print (d1.get('jan',0))"
   ]
  },
  {
   "cell_type": "code",
   "execution_count": 5,
   "id": "70701101",
   "metadata": {},
   "outputs": [
    {
     "name": "stdout",
     "output_type": "stream",
     "text": [
      "0\n"
     ]
    }
   ],
   "source": [
    "print(d1.get('feb',0))"
   ]
  },
  {
   "cell_type": "code",
   "execution_count": 6,
   "id": "bcda6fac",
   "metadata": {},
   "outputs": [
    {
     "name": "stdout",
     "output_type": "stream",
     "text": [
      "enetr the stringvtuvtudgmvtu\n",
      "{'v': 3, 't': 3, 'u': 3, 'd': 1, 'g': 1, 'm': 1}\n"
     ]
    }
   ],
   "source": [
    "str1 = input(\"enetr the string\")\n",
    "d1 = dict()\n",
    "for c in str1:\n",
    "    d1[c] = d1.get(c,0)+1\n",
    "print (d1)"
   ]
  },
  {
   "cell_type": "code",
   "execution_count": null,
   "id": "23740d4a",
   "metadata": {},
   "outputs": [],
   "source": []
  }
 ],
 "metadata": {
  "kernelspec": {
   "display_name": "Python 3 (ipykernel)",
   "language": "python",
   "name": "python3"
  },
  "language_info": {
   "codemirror_mode": {
    "name": "ipython",
    "version": 3
   },
   "file_extension": ".py",
   "mimetype": "text/x-python",
   "name": "python",
   "nbconvert_exporter": "python",
   "pygments_lexer": "ipython3",
   "version": "3.9.7"
  }
 },
 "nbformat": 4,
 "nbformat_minor": 5
}
